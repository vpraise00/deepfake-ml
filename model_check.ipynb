{
 "cells": [
  {
   "cell_type": "code",
   "execution_count": 6,
   "metadata": {},
   "outputs": [
    {
     "name": "stdout",
     "output_type": "stream",
     "text": [
      "timmm version: 1.0.14\n"
     ]
    }
   ],
   "source": [
    "import timm\n",
    "print(f\"timmm version: {timm.__version__}\")"
   ]
  },
  {
   "cell_type": "code",
   "execution_count": 4,
   "metadata": {},
   "outputs": [
    {
     "name": "stdout",
     "output_type": "stream",
     "text": [
      "Unexpected exception formatting exception. Falling back to standard exception\n"
     ]
    },
    {
     "name": "stderr",
     "output_type": "stream",
     "text": [
      "Traceback (most recent call last):\n",
      "  File \"c:\\Users\\vprai\\anaconda3\\envs\\AI\\lib\\site-packages\\IPython\\core\\interactiveshell.py\", line 3553, in run_code\n",
      "    exec(code_obj, self.user_global_ns, self.user_ns)\n",
      "  File \"C:\\Users\\vprai\\AppData\\Local\\Temp\\ipykernel_2344\\3196859040.py\", line 7, in <module>\n",
      "    checkpoint = torch.load(MODEL_PATH, map_location=device)\n",
      "  File \"c:\\Users\\vprai\\anaconda3\\envs\\AI\\lib\\site-packages\\torch\\serialization.py\", line 1025, in load\n",
      "    return _load(opened_zipfile,\n",
      "  File \"c:\\Users\\vprai\\anaconda3\\envs\\AI\\lib\\site-packages\\torch\\serialization.py\", line 1446, in _load\n",
      "    result = unpickler.load()\n",
      "  File \"c:\\Users\\vprai\\anaconda3\\envs\\AI\\lib\\site-packages\\torch\\serialization.py\", line 1439, in find_class\n",
      "    return super().find_class(mod_name, name)\n",
      "ModuleNotFoundError: No module named 'timm.models.layers.adaptive_avgmax_pool'\n",
      "\n",
      "During handling of the above exception, another exception occurred:\n",
      "\n",
      "Traceback (most recent call last):\n",
      "  File \"c:\\Users\\vprai\\anaconda3\\envs\\AI\\lib\\site-packages\\IPython\\core\\interactiveshell.py\", line 2144, in showtraceback\n",
      "    stb = self.InteractiveTB.structured_traceback(\n",
      "  File \"c:\\Users\\vprai\\anaconda3\\envs\\AI\\lib\\site-packages\\IPython\\core\\ultratb.py\", line 1435, in structured_traceback\n",
      "    return FormattedTB.structured_traceback(\n",
      "  File \"c:\\Users\\vprai\\anaconda3\\envs\\AI\\lib\\site-packages\\IPython\\core\\ultratb.py\", line 1326, in structured_traceback\n",
      "    return VerboseTB.structured_traceback(\n",
      "  File \"c:\\Users\\vprai\\anaconda3\\envs\\AI\\lib\\site-packages\\IPython\\core\\ultratb.py\", line 1173, in structured_traceback\n",
      "    formatted_exception = self.format_exception_as_a_whole(etype, evalue, etb, number_of_lines_of_context,\n",
      "  File \"c:\\Users\\vprai\\anaconda3\\envs\\AI\\lib\\site-packages\\IPython\\core\\ultratb.py\", line 1063, in format_exception_as_a_whole\n",
      "    self.get_records(etb, number_of_lines_of_context, tb_offset) if etb else []\n",
      "  File \"c:\\Users\\vprai\\anaconda3\\envs\\AI\\lib\\site-packages\\IPython\\core\\ultratb.py\", line 1115, in get_records\n",
      "    style = stack_data.style_with_executing_node(style, self._tb_highlight)\n",
      "  File \"c:\\Users\\vprai\\anaconda3\\envs\\AI\\lib\\site-packages\\stack_data\\core.py\", line 424, in style_with_executing_node\n",
      "    class NewStyle(style):\n",
      "  File \"c:\\Users\\vprai\\anaconda3\\envs\\AI\\lib\\site-packages\\pygments\\style.py\", line 91, in __new__\n",
      "    ndef[4] = colorformat(styledef[3:])\n",
      "  File \"c:\\Users\\vprai\\anaconda3\\envs\\AI\\lib\\site-packages\\pygments\\style.py\", line 58, in colorformat\n",
      "    assert False, \"wrong color format %r\" % text\n",
      "AssertionError: wrong color format 'ansiyellow'\n"
     ]
    }
   ],
   "source": [
    "import torch\n",
    "\n",
    "MODEL_PATH = \"model/CelebDF_model_20_epochs_99acc.pt\"  # 업로드된 경로\n",
    "device = torch.device(\"cuda\" if torch.cuda.is_available() else \"cpu\")\n",
    "\n",
    "# ✅ 체크포인트 로드\n",
    "checkpoint = torch.load(MODEL_PATH, map_location=device)\n",
    "\n",
    "# ✅ 저장된 객체의 키 확인\n",
    "print(\"📌 저장된 체크포인트 키:\", checkpoint.keys())\n",
    "\n",
    "# ✅ 모델 객체 확인\n",
    "if 'model' in checkpoint:\n",
    "    model = checkpoint['model']\n",
    "    print(f\"✅ 모델 객체가 포함됨: {type(model)}\")\n",
    "else:\n",
    "    print(\"❌ 모델 객체가 포함되지 않음. state_dict()만 저장되었을 가능성이 높음.\")\n"
   ]
  }
 ],
 "metadata": {
  "kernelspec": {
   "display_name": "Python 3",
   "language": "python",
   "name": "python3"
  },
  "language_info": {
   "codemirror_mode": {
    "name": "ipython",
    "version": 3
   },
   "file_extension": ".py",
   "mimetype": "text/x-python",
   "name": "python",
   "nbconvert_exporter": "python",
   "pygments_lexer": "ipython3",
   "version": "3.10.13"
  }
 },
 "nbformat": 4,
 "nbformat_minor": 2
}
